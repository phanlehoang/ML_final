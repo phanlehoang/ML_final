{
 "cells": [
  {
   "cell_type": "code",
   "execution_count": 12,
   "metadata": {},
   "outputs": [
    {
     "ename": "NameError",
     "evalue": "name 'train_images' is not defined",
     "output_type": "error",
     "traceback": [
      "\u001b[1;31m---------------------------------------------------------------------------\u001b[0m",
      "\u001b[1;31mNameError\u001b[0m                                 Traceback (most recent call last)",
      "Cell \u001b[1;32mIn[12], line 5\u001b[0m\n\u001b[0;32m      3\u001b[0m \u001b[39m# apply PCA to reduce dimensionality\u001b[39;00m\n\u001b[0;32m      4\u001b[0m pca \u001b[39m=\u001b[39m PCA(n_components\u001b[39m=\u001b[39m\u001b[39m2\u001b[39m)  \u001b[39m# set the number of components to 2\u001b[39;00m\n\u001b[1;32m----> 5\u001b[0m train_images_pca \u001b[39m=\u001b[39m pca\u001b[39m.\u001b[39mfit_transform(train_images)\n\u001b[0;32m      6\u001b[0m test_images_pca \u001b[39m=\u001b[39m pca\u001b[39m.\u001b[39mtransform(test_images)\n\u001b[0;32m      8\u001b[0m \u001b[39mprint\u001b[39m(train_images_pca\u001b[39m.\u001b[39mshape)  \u001b[39m# (5000, 2)\u001b[39;00m\n",
      "\u001b[1;31mNameError\u001b[0m: name 'train_images' is not defined"
     ]
    }
   ],
   "source": [
    "from sklearn.decomposition import PCA\n",
    "from readsrc import MNIST\n",
    "# apply PCA to reduce dimensionality\n",
    "pca = PCA(n_components=2)  # set the number of components to 2\n",
    "train_images_pca = pca.fit_transform(train_images)\n",
    "test_images_pca = pca.transform(test_images)\n",
    "\n",
    "print(train_images_pca.shape)  # (5000, 2)\n",
    "print(test_images_pca.shape)  # (10000, 2)\n"
   ]
  }
 ],
 "metadata": {
  "kernelspec": {
   "display_name": "base",
   "language": "python",
   "name": "python3"
  },
  "language_info": {
   "codemirror_mode": {
    "name": "ipython",
    "version": 3
   },
   "file_extension": ".py",
   "mimetype": "text/x-python",
   "name": "python",
   "nbconvert_exporter": "python",
   "pygments_lexer": "ipython3",
   "version": "3.10.9"
  },
  "orig_nbformat": 4
 },
 "nbformat": 4,
 "nbformat_minor": 2
}
